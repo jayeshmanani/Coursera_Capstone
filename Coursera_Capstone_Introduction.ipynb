{
  "nbformat": 4,
  "nbformat_minor": 0,
  "metadata": {
    "colab": {
      "name": "Coursera Capstone Introduction.ipynb",
      "provenance": [],
      "authorship_tag": "ABX9TyPL6DVKmRGtQYWWFr6bnkCb",
      "include_colab_link": true
    },
    "kernelspec": {
      "name": "python3",
      "display_name": "Python 3"
    }
  },
  "cells": [
    {
      "cell_type": "markdown",
      "metadata": {
        "id": "view-in-github",
        "colab_type": "text"
      },
      "source": [
        "<a href=\"https://colab.research.google.com/github/jayeshmanani/Coursera_Capstone/blob/master/Coursera_Capstone_Introduction.ipynb\" target=\"_parent\"><img src=\"https://colab.research.google.com/assets/colab-badge.svg\" alt=\"Open In Colab\"/></a>"
      ]
    },
    {
      "cell_type": "markdown",
      "metadata": {
        "id": "B59hPBBl41Gi",
        "colab_type": "text"
      },
      "source": [
        "## This project's Name is Capstone Project. \n",
        "In this project We have to apply Data Science in the scenario like where we have to move to the new area where our new office is situated so, to find the similar kind of fascilities and environment can we use data science? This is all about Data Science in Real life example.\n"
      ]
    },
    {
      "cell_type": "code",
      "metadata": {
        "id": "Cho6-xTz4rs4",
        "colab_type": "code",
        "colab": {}
      },
      "source": [
        "import pandas as pd\n",
        "import numpy as np"
      ],
      "execution_count": 0,
      "outputs": []
    },
    {
      "cell_type": "code",
      "metadata": {
        "id": "lrikFUMd5VVI",
        "colab_type": "code",
        "colab": {
          "base_uri": "https://localhost:8080/",
          "height": 34
        },
        "outputId": "6c06e3be-2f3f-422f-fe2a-5920f3d8b76c"
      },
      "source": [
        "print (\"Hello Capstone Project Course!\")"
      ],
      "execution_count": 4,
      "outputs": [
        {
          "output_type": "stream",
          "text": [
            "Hello Capstone Project Course!\n"
          ],
          "name": "stdout"
        }
      ]
    },
    {
      "cell_type": "code",
      "metadata": {
        "id": "wLPV-Scr5fU8",
        "colab_type": "code",
        "colab": {}
      },
      "source": [
        ""
      ],
      "execution_count": 0,
      "outputs": []
    }
  ]
}